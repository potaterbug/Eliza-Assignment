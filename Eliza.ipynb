{
 "cells": [
  {
   "cell_type": "code",
   "execution_count": 1,
   "metadata": {},
   "outputs": [],
   "source": [
    "def strip_punctuation(sentence):\n",
    "    punctuation = \"`!@#$%^&*()_+=-[]\\|};:.,\"\n",
    "    for character in punctuation:\n",
    "        sentence = sentence.replace(character,\"\")\n",
    "    return sentence"
   ]
  },
  {
   "cell_type": "code",
   "execution_count": 2,
   "metadata": {},
   "outputs": [],
   "source": [
    "def convert_string_to_list(sentence): \n",
    "    sentence = list(sentence.split(\" \")) \n",
    "    return sentence"
   ]
  },
  {
   "cell_type": "code",
   "execution_count": 3,
   "metadata": {},
   "outputs": [],
   "source": [
    "def convert_pronoun(sentence):\n",
    "    \n",
    "    total_words = len(sentence)\n",
    "    \n",
    "    for word in range(0,total_words):\n",
    "        if sentence[word]==\"me\" or sentence[word]==\"i\":\n",
    "            sentence[word]=\"you\"\n",
    "        elif sentence[word]==\"mine\":\n",
    "            sentence[word]=\"yours\"\n",
    "        elif sentence[word]==\"my\":\n",
    "            sentence[word]=\"your\"\n",
    "        elif sentence[word]==\"am\":\n",
    "            sentence[word]=\"are\"\n",
    "        elif sentence[word]==\"you\":\n",
    "            sentence[word]=\"I\"\n",
    "        elif sentence[word]==\"yours\":\n",
    "            sentence[word]=\"mine\"\n",
    "        elif sentence[word]==\"your\":\n",
    "            sentence[word]=\"my\"\n",
    "        elif sentence[word]==\"i&am\":\n",
    "            sentence[word]=\"I am\"\n",
    "            \n",
    "    return sentence"
   ]
  },
  {
   "cell_type": "code",
   "execution_count": 4,
   "metadata": {},
   "outputs": [],
   "source": [
    "def convert_list_to_string(sentence):\n",
    "    sentence_list = sentence\n",
    "    sentence = \" \".join(map(str,sentence_list))\n",
    "    return sentence"
   ]
  },
  {
   "cell_type": "code",
   "execution_count": 5,
   "metadata": {},
   "outputs": [],
   "source": [
    "def convert_contractions(sentence):\n",
    "    \n",
    "#Common contraction or common contraction endings:\n",
    "\n",
    "    contraction = [\"n/t\", \"/re\", \"/d\", \"/ll\", \"she/s\", \"he/s\", \"i/m\", \"let/s\", \"you are\"]\n",
    "    contraction_replacement= [\" not\", \" are\", \" would\", \" will\", \"she~is\", \"he~is\", \"i am\", \"let us\", \"i&am\"]\n",
    "    total_elements = len(contraction) #hmmm, is somebody pregnant?\n",
    "\n",
    "    for element in range(0,total_elements):\n",
    "        \n",
    "        contraction_value = contraction[element]\n",
    "        replacement_value = contraction_replacement[element]\n",
    "        \n",
    "        sentence = sentence.replace(\"'\",\"/\")\n",
    "        \n",
    "        sentence_pos = sentence.find(contraction_value)\n",
    "\n",
    "        if sentence_pos != -1:\n",
    "            sentence = sentence.replace(contraction_value,replacement_value)\n",
    "\n",
    "    sentence = sentence.replace(\"/\",\"'\")\n",
    "    sentence = sentence.replace(\"~\",\" \")\n",
    "    \n",
    "    return(sentence)\n"
   ]
  },
  {
   "cell_type": "code",
   "execution_count": null,
   "metadata": {},
   "outputs": [
    {
     "name": "stdout",
     "output_type": "stream",
     "text": [
      "Hello!  My name is Eliza, and I'm a therapist.  What is your name? Terri\n",
      " \n",
      "Hello Terri.  How may I  help you?\n",
      " \n",
      "> I am sad\n",
      "Why do you say that you are sad?\n"
     ]
    }
   ],
   "source": [
    "answer = \"\"\n",
    "name = \"\"\n",
    "\n",
    "# Greet \"client\"\n",
    "name = input(\"Hello!  My name is Eliza, and I'm a therapist.  What is your name? \")\n",
    "name = strip_punctuation(name)\n",
    "name = name.capitalize()\n",
    "print(\" \")\n",
    "print(\"Hello \" + name +\".  How may I  help you?\")\n",
    "\n",
    "print(\" \")\n",
    "\n",
    "while answer != \"goodbye\":\n",
    "\n",
    "#Strip all punctuation and spaces.  Convert input to lowercase.\n",
    "    answer = strip_punctuation(input(\"> \")).strip()\n",
    "    answer = answer.lower()\n",
    "    #print(answer)\n",
    "\n",
    "#Convert contractions\n",
    "    answer = convert_contractions(answer)\n",
    "    #print(answer)\n",
    "    \n",
    "#Convert string to list\n",
    "    answer = convert_string_to_list(answer)\n",
    "    #print(answer)\n",
    "\n",
    "#Convert pronouns in list\n",
    "    answer = convert_pronoun(answer)\n",
    "    #print(answer)\n",
    "    \n",
    "#Convert list to string\n",
    "    answer = convert_list_to_string(answer)\n",
    "    #print(answer)\n",
    "    \n",
    "    if answer == \"goodbye\":\n",
    "        print(\"Goodbye\")\n",
    "    else:\n",
    "        print(\"Why do you say that \" + answer + \"?\")\n",
    "\n"
   ]
  },
  {
   "cell_type": "code",
   "execution_count": null,
   "metadata": {},
   "outputs": [],
   "source": []
  }
 ],
 "metadata": {
  "kernelspec": {
   "display_name": "Python 3",
   "language": "python",
   "name": "python3"
  },
  "language_info": {
   "codemirror_mode": {
    "name": "ipython",
    "version": 3
   },
   "file_extension": ".py",
   "mimetype": "text/x-python",
   "name": "python",
   "nbconvert_exporter": "python",
   "pygments_lexer": "ipython3",
   "version": "3.7.6"
  }
 },
 "nbformat": 4,
 "nbformat_minor": 4
}
